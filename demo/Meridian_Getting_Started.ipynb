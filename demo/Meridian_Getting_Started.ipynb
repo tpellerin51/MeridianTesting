{
  "cells": [
    {
      "metadata": {
        "id": "yuQtvbG_vILv"
      },
      "cell_type": "markdown",
      "source": [
        "<table class=\"tfo-notebook-buttons\" align=\"left\">\n",
        "  <td>\n",
        "    <a target=\"_blank\" href=\"https://colab.research.google.com/github/google/meridian/blob/main/demo/Meridian_Getting_Started.ipynb\"><img src=\"https://www.tensorflow.org/images/colab_logo_32px.png\" />Run in Google Colab</a>\n",
        "  </td>\n",
        "  <td>\n",
        "    <a target=\"_blank\" href=\"https://github.com/google/meridian/blob/main/demo/Meridian_Getting_Started.ipynb\"><img src=\"https://www.tensorflow.org/images/GitHub-Mark-32px.png\" />View source on GitHub</a>\n",
        "  </td>\n",
        "</table>"
      ]
    },
    {
      "metadata": {
        "id": "KqSiFABximWU"
      },
      "cell_type": "markdown",
      "source": [
        "# **Introduction to Meridian Demo**"
      ]
    },
    {
      "metadata": {
        "id": "ckR-pavwis-Q"
      },
      "cell_type": "markdown",
      "source": [
        "Welcome to the Meridian end-to-end demo. This simplified demo showcases the fundamental functionalities and basic usage of the library, including working examples of the major modeling steps:\n",
        "\n",
        "\n",
        "<ol start=\"0\">\n",
        "  <li><a href=\"#install\">Install</a></li>\n",
        "  <li><a href=\"#load-data\">Load the data</a></li>\n",
        "  <li><a href=\"#configure-model\">Configure the model</a></li>\n",
        "  <li><a href=\"#model-diagnostics\">Run model diagnostics</a></li>\n",
        "  <li><a href=\"#generate-summary\">Generate model results & two-page output</a></li>\n",
        "  <li><a href=\"#generate-optimize\">Run budget optimization & two-page output</a></li>\n",
        "  <li><a href=\"#save-model\">Save the model object</a></li>\n",
        "</ol>\n",
        "\n",
        "\n",
        "Note that this notebook skips all of the exploratory data analysis and preprocessing steps. It assumes that you have completed these tasks before reaching this point in the demo.\n",
        "\n",
        "This notebook utilizes sample data. As a result, the numbers and results obtained might not accurately reflect what you encounter when working with a real dataset."
      ]
    },
    {
      "metadata": {
        "id": "GicRPam0mUhF"
      },
      "cell_type": "markdown",
      "source": [
        "<a name=\"install\"></a>\n",
        "## Step 0: Install"
      ]
    },
    {
      "metadata": {
        "id": "pDdX9WofM2fx"
      },
      "cell_type": "markdown",
      "source": [
        "1\\. Make sure you are using one of the available GPU Colab runtimes which is **required** to run Meridian. You can change your notebook's runtime in `Runtime > Change runtime type` in the menu. All users can use the T4 GPU runtime which is sufficient to run the demo colab, free of charge. Users who have purchased one of Colab's paid plans have access to premium GPUs (such as V100, A100 or L4 Nvidia GPU)."
      ]
    },
    {
      "metadata": {
        "id": "nFYRTDuesa1P"
      },
      "cell_type": "markdown",
      "source": [
        "2\\. Install the latest version of Meridian, and verify that GPU is available."
      ]
    },
    {
      "metadata": {
        "id": "h1jAk386jF3k"
      },
      "cell_type": "code",
      "source": [
        "# Install meridian: from PyPI @ latest release\n",
        "!pip install --upgrade google-meridian[colab,and-cuda]\n",
        "\n",
        "# Install meridian: from PyPI @ specific version\n",
        "# !pip install google-meridian[colab,and-cuda]==1.1.1\n",
        "\n",
        "# Install meridian: from GitHub @HEAD\n",
        "# !pip install --upgrade \"google-meridian[colab,and-cuda] @ git+https://github.com/google/meridian.git@main\""
      ],
      "outputs": [],
      "execution_count": null
    },
    {
      "metadata": {
        "id": "Fhwt1wzgLwpZ"
      },
      "cell_type": "code",
      "source": [
        "import arviz as az\n",
        "import IPython\n",
        "from meridian import constants\n",
        "from meridian.analysis import analyzer\n",
        "from meridian.analysis import formatter\n",
        "from meridian.analysis import optimizer\n",
        "from meridian.analysis import summarizer\n",
        "from meridian.analysis import visualizer\n",
        "from meridian.data import data_frame_input_data_builder\n",
        "from meridian.data import test_utils\n",
        "from meridian.model import model\n",
        "from meridian.model import prior_distribution\n",
        "from meridian.model import spec\n",
        "import numpy as np\n",
        "import pandas as pd\n",
        "# check if GPU is available\n",
        "from psutil import virtual_memory\n",
        "import tensorflow as tf\n",
        "import tensorflow_probability as tfp\n",
        "\n",
        "ram_gb = virtual_memory().total / 1e9\n",
        "print('Your runtime has {:.1f} gigabytes of available RAM\\n'.format(ram_gb))\n",
        "print(\n",
        "    'Num GPUs Available: ',\n",
        "    len(tf.config.experimental.list_physical_devices('GPU')),\n",
        ")\n",
        "print(\n",
        "    'Num CPUs Available: ',\n",
        "    len(tf.config.experimental.list_physical_devices('CPU')),\n",
        ")"
      ],
      "outputs": [],
      "execution_count": null
    },
    {
      "metadata": {
        "id": "kiM0UrN6qbIP"
      },
      "cell_type": "markdown",
      "source": [
        "<a name=\"load-data\"></a>\n",
        "## Step 1: Load the data"
      ]
    },
    {
      "metadata": {
        "id": "z18Mo-22x0lY"
      },
      "cell_type": "markdown",
      "source": [
        "Load the [simulated dataset in CSV format](https://github.com/google/meridian/blob/main/meridian/data/simulated_data/csv/geo_all_channels.csv) as follows."
      ]
    },
    {
      "cell_type": "code",
      "source": [
        "from google.colab import drive\n",
        "drive.mount('/content/drive', force_remount=True)"
      ],
      "metadata": {
        "id": "f2lnxG3qVHcN"
      },
      "execution_count": null,
      "outputs": []
    },
    {
      "metadata": {
        "id": "tZd-ik8NbjK6"
      },
      "cell_type": "markdown",
      "source": [
        "1\\. Read the data into a Pandas DataFrame."
      ]
    },
    {
      "cell_type": "code",
      "source": [
        "# Update this filepath to the actual path of your file\n",
        "filepath = \"/content/final_combined_mmm_df_refresh_Apr15.csv\"\n",
        "\n",
        "# Read the data from the local file into a Pandas DataFrame\n",
        "df = pd.read_csv(filepath)"
      ],
      "metadata": {
        "id": "yNR_xsfA3ciM"
      },
      "execution_count": null,
      "outputs": []
    },
    {
      "cell_type": "code",
      "source": [
        "df.head()"
      ],
      "metadata": {
        "id": "usUuRDz3SKaU"
      },
      "execution_count": null,
      "outputs": []
    },
    {
      "metadata": {
        "id": "LNr75vQL1Zru"
      },
      "cell_type": "markdown",
      "source": [
        "3\\. Offer the components to the builder. Note that the components may be offered all at once or piecewise."
      ]
    },
    {
      "cell_type": "code",
      "source": [
        "media_cols = [c for c in df.columns if \"impressions\" in c and \"ios\" in c]\n",
        "spend_cols = [c for c in df.columns if \"spend\" in c and \"ios\" in c]\n",
        "media_channels = [c[12:] for c in media_cols]\n",
        "media_channels"
      ],
      "metadata": {
        "id": "wbWooBg0JJG9"
      },
      "execution_count": null,
      "outputs": []
    },
    {
      "cell_type": "code",
      "source": [
        "df.columns"
      ],
      "metadata": {
        "id": "K2_WAT21NuMM"
      },
      "execution_count": null,
      "outputs": []
    },
    {
      "cell_type": "markdown",
      "source": [
        "2\\. Create a DataFrameInputDataBuilder instance.\n"
      ],
      "metadata": {
        "id": "AmON9dMP2lqs"
      }
    },
    {
      "metadata": {
        "id": "udaLGvwl1U8B"
      },
      "cell_type": "code",
      "source": [
        "# Rename the 'date' column to 'time' to match Meridian's expectation\n",
        "df_renamed = df.rename(columns={'date': 'time'})\n",
        "\n",
        "builder = data_frame_input_data_builder.DataFrameInputDataBuilder(\n",
        "    kpi_type='revenue'\n",
        ")\n",
        "\n",
        "builder = (\n",
        "    builder.with_kpi(df_renamed, kpi_col=\"daily_revenue\", time_col=\"time\")\n",
        ")\n",
        "\n",
        "builder = builder.with_media(\n",
        "    df_renamed,\n",
        "    media_cols=media_cols,\n",
        "    media_spend_cols=spend_cols,\n",
        "    media_channels=media_channels,\n",
        "    time_col=\"time\",\n",
        ")\n",
        "\n",
        "data = builder.build()"
      ],
      "outputs": [],
      "execution_count": null
    },
    {
      "metadata": {
        "id": "DlF5vs8vb8Wn"
      },
      "cell_type": "markdown",
      "source": [
        "Note that the simulated data here does not contain reach and frequency. We recommend including reach and frequency data whenever they are available. For information about the advantages of utilizing reach and frequency, see [Bayesian Hierarchical Media Mix Model Incorporating Reach and Frequency Data](https://research.google/pubs/bayesian-hierarchical-media-mix-model-incorporating-reach-and-frequency-data/#:~:text=By%20incorporating%20R%26F%20into%20MMM,based%20on%20optimal%20frequency%20recommendations.). For code snippet for loading reach and frequency data, see [Load geo-level data with reach and frequency](https://developers.google.com/meridian/docs/user-guide/load-geo-data-with-rf)\n",
        "\n",
        "The documentation provides guidance for instances where reach and frequency data is accessible for specific channels. Additionally, for information about how to load other data types and formats, including data with reach and frequency, see [Supported data types and formats](https://developers.google.com/meridian/docs/user-guide/supported-data-types-formats)."
      ]
    },
    {
      "metadata": {
        "id": "FO6pDd6f2V1L"
      },
      "cell_type": "markdown",
      "source": [
        "<a name=\"configure-model\"></a>\n",
        "## Step 2: Configure the model"
      ]
    },
    {
      "metadata": {
        "id": "a_mQI7HzxxK4"
      },
      "cell_type": "markdown",
      "source": [
        "Meridian uses Bayesian framework and Markov Chain Monte Carlo (MCMC) algorithms to sample from the posterior distribution.\n",
        "\n",
        "1\\. Inititalize the `Meridian` class by passing the loaded data and the customized model specification. One advantage of Meridian lies in its capacity to calibrate the model directly through ROI priors, as described in [Media Mix Model Calibration With Bayesian Priors](https://research.google/pubs/media-mix-model-calibration-with-bayesian-priors/). In this particular example, the ROI priors for all media channels are identical, with each being represented as Lognormal(0.2, 0.9)."
      ]
    },
    {
      "metadata": {
        "id": "8XNDd7HX1qTn"
      },
      "cell_type": "code",
      "source": [
        "roi_mu = 0.2  # Mu for ROI prior for each media channel.\n",
        "roi_sigma = 0.9  # Sigma for ROI prior for each media channel.\n",
        "prior = prior_distribution.PriorDistribution(\n",
        "    roi_m=tfp.distributions.LogNormal(roi_mu, roi_sigma, name=constants.ROI_M)\n",
        ")\n",
        "\n",
        "# this is mopstly full of dfault params, but can iterate from here\n",
        "model_spec = spec.ModelSpec(\n",
        "    prior=prior_distribution.PriorDistribution(),\n",
        "    media_effects_dist='log_normal',\n",
        "    hill_before_adstock=False,\n",
        "    max_lag=8,\n",
        "    unique_sigma_for_each_geo=False,\n",
        "    media_prior_type='roi',\n",
        "    roi_calibration_period=None,\n",
        "    rf_prior_type='roi',\n",
        "    rf_roi_calibration_period=None,\n",
        "    organic_media_prior_type='contribution',\n",
        "    organic_rf_prior_type='contribution',\n",
        "    non_media_treatments_prior_type='contribution',\n",
        "    knots=None,\n",
        "    baseline_geo=None,\n",
        "    holdout_id=None,\n",
        "    control_population_scaling_id=None,\n",
        ")\n",
        "mmm = model.Meridian(input_data=data, model_spec=model_spec)"
      ],
      "outputs": [],
      "execution_count": null
    },
    {
      "metadata": {
        "id": "kPQBPlX8cmEv"
      },
      "cell_type": "markdown",
      "source": [
        "2\\. Use the `sample_prior()` and `sample_posterior()` methods to obtain samples from the prior and posterior distributions of model parameters. If you are using the T4 GPU runtime this step may take about 10 minutes for the provided data set."
      ]
    },
    {
      "metadata": {
        "id": "KVB3avRdcRNz"
      },
      "cell_type": "code",
      "source": [
        "%%time\n",
        "mmm.sample_prior(500)\n",
        "mmm.sample_posterior(\n",
        "    n_chains=10, n_adapt=2000, n_burnin=500, n_keep=1000, seed=1\n",
        ")"
      ],
      "outputs": [],
      "execution_count": null
    },
    {
      "metadata": {
        "id": "5WUM2V26cspo"
      },
      "cell_type": "markdown",
      "source": [
        "For more information about configuring the parameters and using a customized model specification, such as setting different ROI priors for each media channel, see [Configure the model](https://developers.google.com/meridian/docs/user-guide/configure-model)."
      ]
    },
    {
      "metadata": {
        "id": "t9oECJwUdJTm"
      },
      "cell_type": "markdown",
      "source": [
        "<a name=\"model-diagnostics\"></a>\n",
        "## Step 3: Run model diagnostics"
      ]
    },
    {
      "metadata": {
        "id": "kSzK6JeMxrV6"
      },
      "cell_type": "markdown",
      "source": [
        "After the model is built, you must assess convergence, debug the model if needed, and then assess the model fit.\n",
        "\n",
        "1\\. Assess convergence. Run the following code to generate r-hat statistics. R-hat close to 1.0 indicate convergence. R-hat < 1.2 indicates approximate convergence and is a reasonable threshold for many problems."
      ]
    },
    {
      "metadata": {
        "id": "rFuc7B86yLvM"
      },
      "cell_type": "code",
      "source": [
        "model_diagnostics = visualizer.ModelDiagnostics(mmm)\n",
        "model_diagnostics.plot_rhat_boxplot()"
      ],
      "outputs": [],
      "execution_count": null
    },
    {
      "cell_type": "code",
      "source": [
        "model_diagnostics.predictive_accuracy_table()"
      ],
      "metadata": {
        "id": "E-ofEX7MCfuB"
      },
      "execution_count": null,
      "outputs": []
    },
    {
      "cell_type": "code",
      "source": [
        "model_diagnostics.plot_prior_and_posterior_distribution()"
      ],
      "metadata": {
        "id": "GPSoTzU1Cjga"
      },
      "execution_count": null,
      "outputs": []
    },
    {
      "metadata": {
        "id": "nCwt5SGYxlaE"
      },
      "cell_type": "markdown",
      "source": [
        "2\\. Assess the model's fit by comparing the expected sales against the actual sales."
      ]
    },
    {
      "metadata": {
        "id": "7Z4zJtHyyhif"
      },
      "cell_type": "code",
      "source": [
        "model_fit = visualizer.ModelFit(mmm)\n",
        "model_fit.plot_model_fit()"
      ],
      "outputs": [],
      "execution_count": null
    },
    {
      "metadata": {
        "id": "76IBQcWLu980"
      },
      "cell_type": "markdown",
      "source": [
        "For more information and additional model diagnostics checks, see [Modeling diagnostics](https://developers.google.com/meridian/docs/user-guide/model-diagnostics)."
      ]
    },
    {
      "metadata": {
        "id": "zGUOFFbCdOtl"
      },
      "cell_type": "markdown",
      "source": [
        "<a name=\"generate-summary\"></a>\n",
        "## Step 4: Generate model results & two-page output"
      ]
    },
    {
      "metadata": {
        "id": "puHjkyvZEOEg"
      },
      "cell_type": "markdown",
      "source": [
        "To export the two-page HTML summary output, initialize the `Summarizer` class with the model object. Then pass in the filename, filepath, start date, and end date to `output_model_results_summary` to run the summary for that time duration and save it to the specified file."
      ]
    },
    {
      "metadata": {
        "id": "keOpq1qKNbq0"
      },
      "cell_type": "code",
      "source": [
        "mmm_summarizer = summarizer.Summarizer(mmm)"
      ],
      "outputs": [],
      "execution_count": null
    },
    {
      "metadata": {
        "id": "Ltr4uP80YQe7"
      },
      "cell_type": "code",
      "source": [
        "from google.colab import drive\n",
        "\n",
        "drive.mount('/content/drive')"
      ],
      "outputs": [],
      "execution_count": null
    },
    {
      "metadata": {
        "id": "qbgNaDYpIfQl"
      },
      "cell_type": "code",
      "source": [
        "filepath = '/content/drive/MyDrive'\n",
        "start_date = '2021-01-25'\n",
        "end_date = '2024-01-15'\n",
        "mmm_summarizer.output_model_results_summary(\n",
        "    'summary_output.html', filepath, start_date, end_date\n",
        ")"
      ],
      "outputs": [],
      "execution_count": null
    },
    {
      "metadata": {
        "id": "j9sBxuvidmr8"
      },
      "cell_type": "markdown",
      "source": [
        "Here is a preview of the two-page output based on the simulated data:"
      ]
    },
    {
      "metadata": {
        "id": "vaUe7uZRfJPm"
      },
      "cell_type": "code",
      "source": [
        "IPython.display.HTML(filename='/content/drive/MyDrive/summary_output.html')"
      ],
      "outputs": [],
      "execution_count": null
    },
    {
      "metadata": {
        "id": "PphWMfKdwPIw"
      },
      "cell_type": "markdown",
      "source": [
        "For a customized two-page report, model results summary table, and individual visualizations, see [Model results report](https://developers.google.com/meridian/docs/user-guide/generate-model-results-report) and [plot media visualizations](https://developers.google.com/meridian/docs/user-guide/plot-media-visualizations).\n",
        "\n",
        "\n",
        "\n"
      ]
    },
    {
      "metadata": {
        "id": "msqwz2MN5mTq"
      },
      "cell_type": "markdown",
      "source": [
        "<a name=\"generate-optimize\"></a>\n",
        "## Step 5: Run budget optimization & generate an optimization report"
      ]
    },
    {
      "metadata": {
        "id": "khCL6Q2sS-iy"
      },
      "cell_type": "markdown",
      "source": [
        "You can choose what scenario to run for the budget allocation. In default scenario, you find the optimal allocation across channels for a given budget to maximize the return on investment (ROI).\n",
        "\n",
        "1\\. Instantiate the `BudgetOptimizer` class and run the `optimize()` method without any customization, to run the default library's Fixed Budget Scenario to maximize ROI."
      ]
    },
    {
      "metadata": {
        "id": "38lhqyLvHf51"
      },
      "cell_type": "code",
      "source": [
        "%%time\n",
        "budget_optimizer = optimizer.BudgetOptimizer(mmm)\n",
        "optimization_results = budget_optimizer.optimize()"
      ],
      "outputs": [],
      "execution_count": null
    },
    {
      "cell_type": "code",
      "source": [
        "display(optimization_results)"
      ],
      "metadata": {
        "id": "c82M_dNNQRtr"
      },
      "execution_count": null,
      "outputs": []
    },
    {
      "metadata": {
        "id": "fLOMqDmCRKRO"
      },
      "cell_type": "markdown",
      "source": [
        "2\\. Export the 2-page HTML optimization report, which contains optimized spend allocations and ROI."
      ]
    },
    {
      "metadata": {
        "id": "at7V7YEh_zwZ"
      },
      "cell_type": "code",
      "source": [
        "filepath = '/content/drive/MyDrive'\n",
        "optimization_results.output_optimization_summary(\n",
        "    'optimization_output.html', filepath\n",
        ")"
      ],
      "outputs": [],
      "execution_count": null
    },
    {
      "metadata": {
        "id": "jq_mcrj1STDU"
      },
      "cell_type": "code",
      "source": [
        "IPython.display.HTML(filename='/content/drive/MyDrive/optimization_output.html')"
      ],
      "outputs": [],
      "execution_count": null
    },
    {
      "metadata": {
        "id": "kIWTubaN0RKC"
      },
      "cell_type": "markdown",
      "source": [
        "For information about customized optimization scenarios, such as flexible budget scenarios, see [Budget optimization scenarios](https://developers.google.com/meridian/docs/user-guide/budget-optimization-scenarios). For more information about optimization results summary and individual visualizations, see [optimization results output](https://developers.google.com/meridian/docs/user-guide/generate-optimization-results-output) and [optimization visualizations](https://developers.google.com/meridian/docs/user-guide/plot-optimization-visualizations)."
      ]
    },
    {
      "metadata": {
        "id": "3m98O3a_TrVg"
      },
      "cell_type": "markdown",
      "source": [
        "<a name=\"save-model\"></a>\n",
        "## Step 6: Save the model object"
      ]
    },
    {
      "metadata": {
        "id": "2Zjh64YG8Dti"
      },
      "cell_type": "markdown",
      "source": [
        "We recommend that you save the model object for future use. This helps you to  avoid repetitive model runs and saves time and computational resources. After the model object is saved, you can load it at a later stage to continue the analysis or visualizations without having to re-run the model.\n"
      ]
    },
    {
      "metadata": {
        "id": "1kamZpyv8KMh"
      },
      "cell_type": "markdown",
      "source": [
        "Run the following codes to save the model object:"
      ]
    },
    {
      "metadata": {
        "id": "FfaQQ8-fTw0K"
      },
      "cell_type": "code",
      "source": [
        "file_path = '/content/drive/MyDrive/saved_mmm.pkl'\n",
        "model.save_mmm(mmm, file_path)"
      ],
      "outputs": [],
      "execution_count": null
    },
    {
      "metadata": {
        "id": "k2v_s2uS8PgA"
      },
      "cell_type": "markdown",
      "source": [
        "Run the following codes to load the saved model:"
      ]
    },
    {
      "metadata": {
        "id": "ZGUmiYI48epA"
      },
      "cell_type": "code",
      "source": [
        "mmm = model.load_mmm(file_path)"
      ],
      "outputs": [],
      "execution_count": null
    },
    {
      "cell_type": "markdown",
      "metadata": {
        "id": "6210e813"
      },
      "source": [
        "To mount your Google Drive, run the cell below and follow the authentication steps."
      ]
    },
    {
      "cell_type": "code",
      "source": [],
      "metadata": {
        "id": "mp5_khj6UiPq"
      },
      "execution_count": null,
      "outputs": []
    },
    {
      "cell_type": "markdown",
      "metadata": {
        "id": "6ee91fa2"
      },
      "source": [
        "# Task\n",
        "Generate Python code to create a waterfall chart of effect sizes from the `meridian.analysis` module using the `mmm` object."
      ]
    },
    {
      "cell_type": "markdown",
      "metadata": {
        "id": "e31f3a63"
      },
      "source": [
        "## Explore `meridian.analysis`\n",
        "\n",
        "### Subtask:\n",
        "Inspect the `meridian.analysis` module to identify classes or functions related to visualizing model results or contributions.\n"
      ]
    },
    {
      "cell_type": "markdown",
      "metadata": {
        "id": "3e05810e"
      },
      "source": [
        "**Reasoning**:\n",
        "Inspect the `meridian.analysis` module to identify relevant classes or functions for visualizing model results and contributions.\n",
        "\n"
      ]
    },
    {
      "cell_type": "code",
      "metadata": {
        "id": "e2b8fb5c"
      },
      "source": [
        "import inspect\n",
        "import meridian.analysis\n",
        "\n",
        "# List all attributes and methods in meridian.analysis\n",
        "analysis_attributes = dir(meridian.analysis)\n",
        "print(\"Attributes and methods in meridian.analysis:\")\n",
        "for attr_name in analysis_attributes:\n",
        "    print(attr_name)\n",
        "\n",
        "print(\"\\nExamining relevant classes/functions:\")\n",
        "# Examine classes/functions that might be related to visualization\n",
        "for attr_name in analysis_attributes:\n",
        "    attr = getattr(meridian.analysis, attr_name)\n",
        "    if inspect.isclass(attr) or inspect.isfunction(attr):\n",
        "        if \"plot\" in attr_name.lower() or \"visualiz\" in attr_name.lower() or \"results\" in attr_name.lower() or \"contribut\" in attr_name.lower() or \"summary\" in attr_name.lower():\n",
        "            print(f\"\\n--- {attr_name} ---\")\n",
        "            try:\n",
        "                print(inspect.getdoc(attr))\n",
        "            except TypeError:\n",
        "                print(\"No docstring available.\")"
      ],
      "execution_count": null,
      "outputs": []
    },
    {
      "cell_type": "markdown",
      "metadata": {
        "id": "47cab847"
      },
      "source": [
        "**Reasoning**:\n",
        "Based on the previous output, the `visualizer`, `analyzer`, and `summarizer` modules seem most relevant to visualizing model results and contributions. Inspecting these modules further will help identify the specific class or function for a waterfall chart.\n",
        "\n"
      ]
    },
    {
      "cell_type": "code",
      "metadata": {
        "id": "168cf9b8"
      },
      "source": [
        "import inspect\n",
        "import meridian.analysis.analyzer\n",
        "import meridian.analysis.summarizer\n",
        "import meridian.analysis.visualizer\n",
        "\n",
        "print(\"Examining meridian.analysis.visualizer:\")\n",
        "visualizer_attributes = dir(meridian.analysis.visualizer)\n",
        "for attr_name in visualizer_attributes:\n",
        "    attr = getattr(meridian.analysis.visualizer, attr_name)\n",
        "    if inspect.isclass(attr) or inspect.isfunction(attr):\n",
        "        if \"waterfall\" in attr_name.lower():\n",
        "            print(f\"\\n--- {attr_name} ---\")\n",
        "            try:\n",
        "                print(inspect.getdoc(attr))\n",
        "            except TypeError:\n",
        "                print(\"No docstring available.\")\n",
        "\n",
        "print(\"\\nExamining meridian.analysis.analyzer:\")\n",
        "analyzer_attributes = dir(meridian.analysis.analyzer)\n",
        "for attr_name in analyzer_attributes:\n",
        "    attr = getattr(meridian.analysis.analyzer, attr_name)\n",
        "    if inspect.isclass(attr) or inspect.isfunction(attr):\n",
        "         if \"waterfall\" in attr_name.lower():\n",
        "            print(f\"\\n--- {attr_name} ---\")\n",
        "            try:\n",
        "                print(inspect.getdoc(attr))\n",
        "            except TypeError:\n",
        "                print(\"No docstring available.\")\n",
        "\n",
        "print(\"\\nExamining meridian.analysis.summarizer:\")\n",
        "summarizer_attributes = dir(meridian.analysis.summarizer)\n",
        "for attr_name in summarizer_attributes:\n",
        "    attr = getattr(meridian.analysis.summarizer, attr_name)\n",
        "    if inspect.isclass(attr) or inspect.isfunction(attr):\n",
        "         if \"waterfall\" in attr_name.lower():\n",
        "            print(f\"\\n--- {attr_name} ---\")\n",
        "            try:\n",
        "                print(inspect.getdoc(attr))\n",
        "            except TypeError:\n",
        "                print(\"No docstring available.\")"
      ],
      "execution_count": null,
      "outputs": []
    },
    {
      "cell_type": "markdown",
      "metadata": {
        "id": "f9b5eaa8"
      },
      "source": [
        "**Reasoning**:\n",
        "Since directly searching for \"waterfall\" in the module attributes did not yield results, I will inspect all classes and functions within the `visualizer`, `analyzer`, and `summarizer` modules to find the relevant visualization function by examining their docstrings for keywords like \"plot\", \"chart\", \"contribution\", or \"effect\".\n",
        "\n"
      ]
    },
    {
      "cell_type": "code",
      "metadata": {
        "id": "1bc8ca5a"
      },
      "source": [
        "import inspect\n",
        "\n",
        "print(\"Examining meridian.analysis.visualizer for plotting functions:\")\n",
        "visualizer_attributes = dir(meridian.analysis.visualizer)\n",
        "for attr_name in visualizer_attributes:\n",
        "    attr = getattr(meridian.analysis.visualizer, attr_name)\n",
        "    if inspect.isclass(attr) or inspect.isfunction(attr):\n",
        "        try:\n",
        "            docstring = inspect.getdoc(attr)\n",
        "            if docstring and (\"plot\" in docstring.lower() or \"chart\" in docstring.lower() or \"contribution\" in docstring.lower() or \"effect\" in docstring.lower()):\n",
        "                 print(f\"\\n--- {attr_name} ---\")\n",
        "                 print(docstring)\n",
        "        except TypeError:\n",
        "            pass # Ignore attributes without docstrings\n",
        "\n",
        "print(\"\\nExamining meridian.analysis.analyzer for plotting functions:\")\n",
        "analyzer_attributes = dir(meridian.analysis.analyzer)\n",
        "for attr_name in analyzer_attributes:\n",
        "    attr = getattr(meridian.analysis.analyzer, attr_name)\n",
        "    if inspect.isclass(attr) or inspect.isfunction(attr):\n",
        "        try:\n",
        "            docstring = inspect.getdoc(attr)\n",
        "            if docstring and (\"plot\" in docstring.lower() or \"chart\" in docstring.lower() or \"contribution\" in docstring.lower() or \"effect\" in docstring.lower()):\n",
        "                 print(f\"\\n--- {attr_name} ---\")\n",
        "                 print(docstring)\n",
        "        except TypeError:\n",
        "            pass # Ignore attributes without docstrings\n",
        "\n",
        "print(\"\\nExamining meridian.analysis.summarizer for plotting functions:\")\n",
        "summarizer_attributes = dir(meridian.analysis.summarizer)\n",
        "for attr_name in summarizer_attributes:\n",
        "    attr = getattr(meridian.analysis.summarizer, attr_name)\n",
        "    if inspect.isclass(attr) or inspect.isfunction(attr):\n",
        "        try:\n",
        "            docstring = inspect.getdoc(attr)\n",
        "            if docstring and (\"plot\" in docstring.lower() or \"chart\" in docstring.lower() or \"contribution\" in docstring.lower() or \"effect\" in docstring.lower()):\n",
        "                 print(f\"\\n--- {attr_name} ---\")\n",
        "                 print(docstring)\n",
        "        except TypeError:\n",
        "            pass # Ignore attributes without docstrings"
      ],
      "execution_count": null,
      "outputs": []
    },
    {
      "cell_type": "markdown",
      "metadata": {
        "id": "41afb262"
      },
      "source": [
        "**Reasoning**:\n",
        "Based on the examination of the `meridian.analysis` modules, the `MediaEffects` class within `meridian.analysis.visualizer` appears to be the most relevant for visualizing media effects, which is consistent with generating a waterfall chart of effect sizes. I will now confirm if `MediaEffects` has a method for plotting waterfall charts by checking its attributes and docstrings.\n",
        "\n"
      ]
    },
    {
      "cell_type": "code",
      "metadata": {
        "id": "9976b3a8"
      },
      "source": [
        "import inspect\n",
        "import meridian.analysis.visualizer\n",
        "\n",
        "print(\"Examining meridian.analysis.visualizer.MediaEffects for waterfall plotting method:\")\n",
        "media_effects_attributes = dir(meridian.analysis.visualizer.MediaEffects)\n",
        "for attr_name in media_effects_attributes:\n",
        "    attr = getattr(meridian.analysis.visualizer.MediaEffects, attr_name)\n",
        "    if inspect.isfunction(attr):\n",
        "        try:\n",
        "            docstring = inspect.getdoc(attr)\n",
        "            if docstring and (\"waterfall\" in docstring.lower() or \"contribution\" in docstring.lower() or \"effect\" in docstring.lower()):\n",
        "                 print(f\"\\n--- {attr_name} ---\")\n",
        "                 print(docstring)\n",
        "            elif \"waterfall\" in attr_name.lower():\n",
        "                 print(f\"\\n--- {attr_name} ---\")\n",
        "                 print(\"No docstring available but name suggests relevance.\")\n",
        "        except TypeError:\n",
        "            pass # Ignore attributes without docstrings"
      ],
      "execution_count": null,
      "outputs": []
    },
    {
      "cell_type": "markdown",
      "metadata": {
        "id": "0cddd0ce"
      },
      "source": [
        "**Reasoning**:\n",
        "Based on the previous inspection, the `visualizer` module contains the `MediaEffects` class, but none of its methods explicitly mention \"waterfall\" in their names or docstrings. However, the original request mentioned using `meridian.analysis.analyzer.ModelResults.plot_waterfall()`, and the traceback in the user's notebook indicates an `AttributeError: module 'meridian.analysis.analyzer' has no attribute 'ModelResults'`. It's possible the function name or class has changed in the library version being used. I will now inspect the `analyzer` module again, but this time looking for any plotting or results-related functions or classes, to see if the waterfall functionality has been moved or renamed.\n",
        "\n"
      ]
    },
    {
      "cell_type": "code",
      "source": [],
      "metadata": {
        "id": "NoiczuvjC451"
      },
      "execution_count": null,
      "outputs": []
    },
    {
      "cell_type": "code",
      "metadata": {
        "id": "1018c354"
      },
      "source": [
        "import inspect\n",
        "import meridian.analysis.analyzer\n",
        "\n",
        "print(\"Examining meridian.analysis.analyzer for plotting/results functions:\")\n",
        "analyzer_attributes = dir(meridian.analysis.analyzer)\n",
        "for attr_name in analyzer_attributes:\n",
        "    attr = getattr(meridian.analysis.analyzer, attr_name)\n",
        "    if inspect.isclass(attr) or inspect.isfunction(attr):\n",
        "        try:\n",
        "            docstring = inspect.getdoc(attr)\n",
        "            if docstring and (\"plot\" in docstring.lower() or \"chart\" in docstring.lower() or \"results\" in docstring.lower() or \"contribution\" in docstring.lower() or \"effect\" in docstring.lower()):\n",
        "                 print(f\"\\n--- {attr_name} ---\")\n",
        "                 print(docstring)\n",
        "            elif \"results\" in attr_name.lower() or \"contribution\" in attr_name.lower() or \"effect\" in attr_name.lower():\n",
        "                 print(f\"\\n--- {attr_name} ---\")\n",
        "                 print(\"No docstring available but name suggests relevance.\")\n",
        "\n",
        "        except TypeError:\n",
        "            pass # Ignore attributes without docstrings"
      ],
      "execution_count": null,
      "outputs": []
    },
    {
      "cell_type": "markdown",
      "metadata": {
        "id": "c689d86a"
      },
      "source": [
        "## Identify alternative plotting method\n",
        "\n",
        "### Subtask:\n",
        "Based on the exploration, find a suitable method to generate a chart showing the effect sizes or contributions of different factors.\n"
      ]
    },
    {
      "cell_type": "markdown",
      "metadata": {
        "id": "bdd94659"
      },
      "source": [
        "**Reasoning**:\n",
        "Re-examine the relevant visualizer classes (`MediaEffects`, `MediaSummary`, `ModelFit`, `ModelDiagnostics`) and their methods to find one suitable for visualizing effect sizes or contributions, even if not explicitly called \"waterfall\".\n",
        "\n"
      ]
    }
  ],
  "metadata": {
    "colab": {
      "gpuType": "T4",
      "private_outputs": true,
      "provenance": []
    },
    "kernelspec": {
      "display_name": "Python 3",
      "name": "python3"
    },
    "language_info": {
      "name": "python"
    }
  },
  "nbformat": 4,
  "nbformat_minor": 0
}